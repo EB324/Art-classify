{
 "cells": [
  {
   "cell_type": "code",
   "execution_count": 2,
   "metadata": {},
   "outputs": [
    {
     "name": "stderr",
     "output_type": "stream",
     "text": [
      "Using TensorFlow backend.\n"
     ]
    }
   ],
   "source": [
    "import numpy as np\n",
    "# import matplotlib # Solve \"RuntimeError\" on mac OSX\n",
    "# matplotlib.use('TkAgg') # Solve \"RuntimeError\" on mac OSX\n",
    "import matplotlib.pyplot as plt\n",
    "import os\n",
    "import cv2\n",
    "from tqdm import tqdm\n",
    "from keras.models import Sequential\n",
    "from keras.layers import Conv2D, MaxPooling2D\n",
    "from keras.layers.core import Dense, Dropout, Activation, Flatten\n",
    "from keras.utils import to_categorical\n",
    "import pickle\n",
    "from sklearn.model_selection import train_test_split"
   ]
  },
  {
   "cell_type": "markdown",
   "metadata": {},
   "source": [
    "## Load demo data\n",
    "\n",
    "Please put your pictures in \"dataset/demo\"."
   ]
  },
  {
   "cell_type": "code",
   "execution_count": 7,
   "metadata": {},
   "outputs": [
    {
     "name": "stderr",
     "output_type": "stream",
     "text": [
      "100%|██████████| 3/3 [00:00<00:00, 99.79it/s]\n"
     ]
    }
   ],
   "source": [
    "DATADIR = 'dataset/demo'\n",
    "IMG_SIZE = 50\n",
    "\n",
    "demo_data = []\n",
    "img_name = []\n",
    "\n",
    "def create_demo_data():\n",
    "    for img in tqdm(os.listdir(DATADIR)):  # iterate over each image \n",
    "        try:\n",
    "            img_array = cv2.imread(os.path.join(DATADIR,img), cv2.IMREAD_GRAYSCALE)  # convert to array\n",
    "            new_array = cv2.resize(img_array, (IMG_SIZE, IMG_SIZE))  # resize to normalize data size\n",
    "            demo_data.append([new_array])  # add this to our training_data\n",
    "            img_name.append(img) \n",
    "        except Exception as e:  \n",
    "            pass\n",
    "       \n",
    "\n",
    "create_demo_data()  "
   ]
  },
  {
   "cell_type": "markdown",
   "metadata": {},
   "source": [
    "## Creat variables"
   ]
  },
  {
   "cell_type": "code",
   "execution_count": 8,
   "metadata": {},
   "outputs": [],
   "source": [
    "X = []\n",
    "\n",
    "for features in demo_data:\n",
    "    X.append(features)\n",
    "\n",
    "X = np.array(X).reshape(-1, \n",
    "                        IMG_SIZE, IMG_SIZE, \n",
    "                        1) "
   ]
  },
  {
   "cell_type": "markdown",
   "metadata": {},
   "source": [
    "## Load trained model"
   ]
  },
  {
   "cell_type": "code",
   "execution_count": 9,
   "metadata": {},
   "outputs": [],
   "source": [
    "pickle_in = open(\"trained/model.pickle\",\"rb\")\n",
    "model = pickle.load(pickle_in)"
   ]
  },
  {
   "cell_type": "markdown",
   "metadata": {},
   "source": [
    "## Print predictions"
   ]
  },
  {
   "cell_type": "code",
   "execution_count": 10,
   "metadata": {},
   "outputs": [
    {
     "name": "stdout",
     "output_type": "stream",
     "text": [
      "The categorry of picture 1 18.59.20.jpg is: iconography\n",
      "The categorry of picture 6.jpg is: sculpture\n"
     ]
    }
   ],
   "source": [
    "output = model.predict(X)\n",
    "output = output.tolist()\n",
    "category = {0: 'iconography', 1: 'painting', 2: 'sculpture'}\n",
    "\n",
    "i = 0\n",
    "\n",
    "for value in output:\n",
    "    predict = category[value.index(max(value))]\n",
    "    print('The categorry of picture', img_name[i], \"is:\", predict)\n",
    "    i+=1"
   ]
  },
  {
   "cell_type": "code",
   "execution_count": null,
   "metadata": {},
   "outputs": [],
   "source": []
  }
 ],
 "metadata": {
  "kernelspec": {
   "display_name": "Python 3",
   "language": "python",
   "name": "python3"
  },
  "language_info": {
   "codemirror_mode": {
    "name": "ipython",
    "version": 3
   },
   "file_extension": ".py",
   "mimetype": "text/x-python",
   "name": "python",
   "nbconvert_exporter": "python",
   "pygments_lexer": "ipython3",
   "version": "3.6.6"
  }
 },
 "nbformat": 4,
 "nbformat_minor": 2
}
